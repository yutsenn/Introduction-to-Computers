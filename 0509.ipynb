{
  "nbformat": 4,
  "nbformat_minor": 0,
  "metadata": {
    "colab": {
      "name": "0509.ipynb",
      "provenance": [],
      "authorship_tag": "ABX9TyOaN5yVJrbbtKWTtXcbftaw",
      "include_colab_link": true
    },
    "kernelspec": {
      "name": "python3",
      "display_name": "Python 3"
    },
    "language_info": {
      "name": "python"
    }
  },
  "cells": [
    {
      "cell_type": "markdown",
      "metadata": {
        "id": "view-in-github",
        "colab_type": "text"
      },
      "source": [
        "<a href=\"https://colab.research.google.com/github/yutsenn/Introduction-to-Computers/blob/main/0509.ipynb\" target=\"_parent\"><img src=\"https://colab.research.google.com/assets/colab-badge.svg\" alt=\"Open In Colab\"/></a>"
      ]
    },
    {
      "cell_type": "code",
      "execution_count": 1,
      "metadata": {
        "colab": {
          "base_uri": "https://localhost:8080/"
        },
        "id": "TnGgOiq57ucq",
        "outputId": "102ffe50-cb7d-4824-9dc6-00b909ae469e"
      },
      "outputs": [
        {
          "output_type": "stream",
          "name": "stdout",
          "text": [
            "123\n"
          ]
        }
      ],
      "source": [
        "print('123')"
      ]
    },
    {
      "cell_type": "code",
      "source": [
        "temp= float(input('請輸入你的體溫'))\n",
        "if temp >= 37.5:\n",
        "  print('體溫過高!')\n",
        "elif temp >= 37 and temp < 37.4:\n",
        "  print('體溫略高!')\n",
        "elif temp >= 34 and temp < 36.9:\n",
        "  print('體溫正常!')\n",
        "else:\n",
        "  print('體溫異常,請重新量測!')"
      ],
      "metadata": {
        "colab": {
          "base_uri": "https://localhost:8080/"
        },
        "id": "yAU72CrQ709I",
        "outputId": "4430f36c-5d61-4f7b-9a90-cb691d69dd9e"
      },
      "execution_count": 3,
      "outputs": [
        {
          "output_type": "stream",
          "name": "stdout",
          "text": [
            "請輸入你的體溫33.9\n",
            "體溫異常,請重新量測!\n"
          ]
        }
      ]
    },
    {
      "cell_type": "code",
      "source": [
        "score= (input('請輸入你的成績'))\n",
        "if (int(score) >= 90):\n",
        "  print('A')\n",
        "elif (int(score) >= 80):\n",
        "  print('B')\n",
        "elif (int(score) >= 70):\n",
        "  print('C')\n",
        "elif (int(score) >= 60):\n",
        "  print('D')\n",
        "else:\n",
        "  print('E')"
      ],
      "metadata": {
        "colab": {
          "base_uri": "https://localhost:8080/"
        },
        "id": "VC2bqp_H9Vc7",
        "outputId": "9179d9e6-2012-4f04-8abc-2cbf4348b8d8"
      },
      "execution_count": 11,
      "outputs": [
        {
          "output_type": "stream",
          "name": "stdout",
          "text": [
            "請輸入你的成績50\n",
            "E\n"
          ]
        }
      ]
    },
    {
      "cell_type": "code",
      "source": [
        "money = int(input('請輸入購物金額:'))\n",
        "if (money >= 10000):\n",
        "  if(money >= 100000):\n",
        "    print('八折', money *0.8, end= '元\\n')\n",
        "  elif(money >= 50000):\n",
        "    print('八五折', money*0.85, end= '元\\n')\n",
        "  elif(money >= 30000):\n",
        "    print('九折', money*0.9, end= '元\\n')\n",
        "  else:\n",
        "    print('九五折', money*0.95, end= '元\\n')\n",
        "else:\n",
        "  print('沒打折',money, end= '元\\n')"
      ],
      "metadata": {
        "colab": {
          "base_uri": "https://localhost:8080/"
        },
        "id": "1xLNv0C_ACMI",
        "outputId": "647f2262-8e33-4ecd-81b3-3bf853a6f165"
      },
      "execution_count": 18,
      "outputs": [
        {
          "output_type": "stream",
          "name": "stdout",
          "text": [
            "請輸入購物金額:50000\n",
            "八五折 42500.0元\n"
          ]
        }
      ]
    },
    {
      "cell_type": "code",
      "source": [
        "money = int(input('請輸入收入:'))\n",
        "if (money >= 100000):\n",
        "  if(money >= 2000000):\n",
        "    print('稅率為0.3', money *0.3, end= '元\\n')\n",
        "  elif(money >= 1000000):\n",
        "    print('稅率為0.21', money*0.21, end= '元\\n')\n",
        "  elif(money >= 600000):\n",
        "    print('稅率為0.13', money*0.13, end= '元\\n')\n",
        "  else:\n",
        "    print('稅率為0.06', money*0.06, end= '元\\n')\n",
        "else:\n",
        "  print('沒有稅率',money, end= '元\\n')"
      ],
      "metadata": {
        "colab": {
          "base_uri": "https://localhost:8080/"
        },
        "id": "Iuk-JuJBF24_",
        "outputId": "5bb3ca31-80ad-4ef5-ff23-e877b9cfdb4c"
      },
      "execution_count": 1,
      "outputs": [
        {
          "output_type": "stream",
          "name": "stdout",
          "text": [
            "請輸入收入:2000000\n",
            "稅率為0.3 600000.0元\n"
          ]
        }
      ]
    },
    {
      "cell_type": "code",
      "source": [
        "month = int(input('請輸入月份:'))\n",
        "if (month >= 1 and month <= 12):\n",
        "  if(month >= 3 and month < 6):\n",
        "    print('{}是春天!'.format(month))\n",
        "  elif(month >= 6 and month < 9):\n",
        "    print('{}是夏天!'.format(month))\n",
        "  elif(month >= 9 and month < 12):\n",
        "    print('{}是秋天!'.format(month))\n",
        "  else:\n",
        "    print('{}是冬天!'.format(month))\n",
        "else:\n",
        "  print('月份不在範圍內!')"
      ],
      "metadata": {
        "colab": {
          "base_uri": "https://localhost:8080/"
        },
        "id": "Rt1BYb08J3DY",
        "outputId": "1ade6650-2b27-418b-9df8-eea60acedd77"
      },
      "execution_count": 6,
      "outputs": [
        {
          "output_type": "stream",
          "name": "stdout",
          "text": [
            "請輸入月份:13\n",
            "月份不在範圍內!\n"
          ]
        }
      ]
    },
    {
      "cell_type": "code",
      "source": [
        ""
      ],
      "metadata": {
        "id": "MUcdzlGTacxm"
      },
      "execution_count": null,
      "outputs": []
    }
  ]
}